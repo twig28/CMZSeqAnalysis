{
 "cells": [
  {
   "cell_type": "code",
   "execution_count": null,
   "id": "eaca7926-b61a-4254-bfa8-983eef4b4b8b",
   "metadata": {},
   "outputs": [],
   "source": [
    "from samap.mapping import SAMAP\n",
    "from samap.analysis import (get_mapping_scores, GenePairFinder,\n",
    "                            sankey_plot, chord_plot, CellTypeTriangles, \n",
    "                            ParalogSubstitutions, FunctionalEnrichment,\n",
    "                            convert_eggnog_to_homologs, GeneTriangles)\n",
    "from samalg import SAM\n",
    "import pandas as pd\n",
    "import plotly.express as px\n",
    "import pickle"
   ]
  },
  {
   "cell_type": "markdown",
   "id": "a770cb74-6e96-4ff2-8a78-e0c1a78ea719",
   "metadata": {},
   "source": [
    "# Importing Samap Data"
   ]
  },
  {
   "cell_type": "code",
   "execution_count": null,
   "id": "54845001-f0e2-4533-95d5-dee603a7a30a",
   "metadata": {},
   "outputs": [],
   "source": [
    "with open('samap_object.pkl', 'rb') as f:\n",
    "    data = pickle.load(f)\n",
    "print(data)\n",
    "sm = data\n",
    "samap = sm.samap"
   ]
  },
  {
   "cell_type": "code",
   "execution_count": null,
   "id": "48b15b6a-bd18-41ea-86d9-0fea8790814d",
   "metadata": {},
   "outputs": [],
   "source": [
    "#interactive UMAP GUI\n",
    "sm.samap.gui()"
   ]
  },
  {
   "cell_type": "code",
   "execution_count": null,
   "id": "8f0a588a-7896-41ec-a630-6fa43840f45c",
   "metadata": {},
   "outputs": [],
   "source": [
    "print(sm.samap)"
   ]
  },
  {
   "cell_type": "code",
   "execution_count": null,
   "id": "3914bd92-a4e0-437e-92d5-f3f9395f02fc",
   "metadata": {},
   "outputs": [],
   "source": [
    "#Homology Graph\n",
    "print(samap.adata.varp['homology_graph_reweighted'])"
   ]
  },
  {
   "cell_type": "markdown",
   "id": "ea590613-7b5b-4526-87f5-ff6ac92da076",
   "metadata": {},
   "source": [
    "# Analysis by Leiden Clusters"
   ]
  },
  {
   "cell_type": "code",
   "execution_count": null,
   "id": "412d54b2-bfe2-467f-a65d-7f415c2737d6",
   "metadata": {},
   "outputs": [],
   "source": [
    "keys = {'ch':'leiden_clusters','ms':'leiden_clusters'}\n",
    "D,MappingTable = get_mapping_scores(sm,keys,n_top = 0)\n",
    "D.head()"
   ]
  },
  {
   "cell_type": "code",
   "execution_count": null,
   "id": "afe49f6b-da3b-4d9b-9d75-5626dc247c92",
   "metadata": {},
   "outputs": [],
   "source": [
    "MappingTable.head()"
   ]
  },
  {
   "cell_type": "code",
   "execution_count": null,
   "id": "4682e362-0007-499e-8335-b2cf46b34760",
   "metadata": {},
   "outputs": [],
   "source": [
    "sankey_plot(MappingTable, align_thr=0.05, species_order = ['ch','ms'])"
   ]
  },
  {
   "cell_type": "code",
   "execution_count": null,
   "id": "43435e89-e423-41b9-8f5e-503439eab207",
   "metadata": {},
   "outputs": [],
   "source": [
    "chord_plot(MappingTable, align_thr=0.05)"
   ]
  },
  {
   "cell_type": "code",
   "execution_count": null,
   "id": "656472be-2bc7-45ba-9952-0dfbbbd4717c",
   "metadata": {},
   "outputs": [],
   "source": [
    "gpf = GenePairFinder(sm,keys=keys)\n",
    "gene_pairs = gpf.find_all(align_thr=0.2)\n",
    "gene_pairs.head()"
   ]
  },
  {
   "cell_type": "markdown",
   "id": "95fbf4e3-9588-4495-a2cd-4d2400dd7b13",
   "metadata": {},
   "source": [
    "# Analysis By Orig.Ident"
   ]
  },
  {
   "cell_type": "code",
   "execution_count": null,
   "id": "ce25e0ff-44bd-4d82-8966-6b458779077b",
   "metadata": {},
   "outputs": [],
   "source": [
    "keys = {'ch':'orig.ident','ms':'orig.ident'}\n",
    "D,MappingTable = get_mapping_scores(sm,keys,n_top = 0)\n",
    "D.head()"
   ]
  },
  {
   "cell_type": "code",
   "execution_count": null,
   "id": "6c710ac5-5740-4a9c-ae00-6cd6a54a987f",
   "metadata": {},
   "outputs": [],
   "source": [
    "sankey_plot(MappingTable, align_thr=0.05, species_order = ['ch','ms'])"
   ]
  },
  {
   "cell_type": "code",
   "execution_count": null,
   "id": "e3bab3ad-8af0-4e8e-81eb-463e7dfd15b3",
   "metadata": {},
   "outputs": [],
   "source": [
    "chord_plot(MappingTable, align_thr=0.05)"
   ]
  },
  {
   "cell_type": "code",
   "execution_count": null,
   "id": "5135e2f4-4182-4715-8002-a5670826bc97",
   "metadata": {},
   "outputs": [],
   "source": [
    "gpfIdent = GenePairFinder(sm,keys=keys)\n",
    "gene_pairsident = gpfIdent.find_all(align_thr=0.2)\n",
    "gene_pairsident.head()"
   ]
  },
  {
   "cell_type": "code",
   "execution_count": null,
   "id": "3d1c22ba-aa63-4bb3-9d0c-dd5ad8c31118",
   "metadata": {},
   "outputs": [],
   "source": [
    "# Analysis By Cell Type Label"
   ]
  },
  {
   "cell_type": "code",
   "execution_count": null,
   "id": "46e51ee8-ff21-4df6-9f83-f31d0008ba2b",
   "metadata": {},
   "outputs": [],
   "source": [
    "keys = {'ch':'orig.ident','ms':'orig.ident'}\n",
    "D,MappingTable = get_mapping_scores(sm,keys,n_top = 0)\n",
    "D.head()"
   ]
  },
  {
   "cell_type": "code",
   "execution_count": null,
   "id": "750283d9-91a6-4946-98d0-798891d45813",
   "metadata": {},
   "outputs": [],
   "source": [
    "sankey_plot(MappingTable, align_thr=0.05, species_order = ['ch','ms'])"
   ]
  },
  {
   "cell_type": "code",
   "execution_count": null,
   "id": "5530b36b-abaf-4a00-b976-793bb2c7345c",
   "metadata": {},
   "outputs": [],
   "source": [
    "chord_plot(MappingTable, align_thr=0.05)"
   ]
  }
 ],
 "metadata": {
  "kernelspec": {
   "display_name": "Python 3 (ipykernel)",
   "language": "python",
   "name": "python3"
  },
  "language_info": {
   "codemirror_mode": {
    "name": "ipython",
    "version": 3
   },
   "file_extension": ".py",
   "mimetype": "text/x-python",
   "name": "python",
   "nbconvert_exporter": "python",
   "pygments_lexer": "ipython3",
   "version": "3.10.0"
  }
 },
 "nbformat": 4,
 "nbformat_minor": 5
}
