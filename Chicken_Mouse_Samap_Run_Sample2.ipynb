{
 "cells": [
  {
   "cell_type": "code",
   "execution_count": null,
   "id": "0821e5bc-fac4-4691-9db3-d389a20b5da5",
   "metadata": {},
   "outputs": [],
   "source": [
    "from samap.mapping import SAMAP\n",
    "from samap.analysis import (get_mapping_scores, GenePairFinder,\n",
    "                            sankey_plot, chord_plot, CellTypeTriangles, \n",
    "                            ParalogSubstitutions, FunctionalEnrichment,\n",
    "                            convert_eggnog_to_homologs, GeneTriangles)\n",
    "from samalg import SAM\n",
    "import pandas as pd\n",
    "import plotly.express as px\n",
    "#NOTE:\n",
    "#the package samalg is not called samalg but is instead called sam-algorithm\n",
    "#Python 3.10 Works while 3.11+ does not"
   ]
  },
  {
   "cell_type": "code",
   "execution_count": null,
   "id": "533c452c-c079-46e7-bd9c-3c6692a3e61f",
   "metadata": {},
   "outputs": [],
   "source": [
    "A=pd.read_csv('chicken_and_mouse\\chms\\maps\\chms\\ch_to_ms.txt',sep='\\t',index_col=0,header=None)\n",
    "B=pd.read_csv('chicken_and_mouse\\chms\\maps\\chms\\ms_to_ch.txt',sep='\\t',index_col=0,header=None)\n",
    "A.head()"
   ]
  },
  {
   "cell_type": "code",
   "execution_count": null,
   "id": "f0d5e116-248a-4949-81a6-d7b9fc115840",
   "metadata": {},
   "outputs": [],
   "source": [
    "B.head()"
   ]
  },
  {
   "cell_type": "code",
   "execution_count": null,
   "id": "8df01ff2-08da-4a8e-9c03-6db7add4f3be",
   "metadata": {},
   "outputs": [],
   "source": [
    "#NOTE When loading in raw data, SAMap will automatically process them with SAM and save the results to an *_pr.h5ad file. For example, if the raw data is file.h5ad the processed data will be saved to file_pr.h5ad\n",
    "fn1 = 'chicken_and_mouse\\chms\\chMG.h5ad' #chicken\n",
    "fn2 = 'chicken_and_mouse\\chms\\mMG.h5ad' #mouse"
   ]
  },
  {
   "cell_type": "code",
   "execution_count": null,
   "id": "8df739ae-5c7f-42e6-8d9f-4c415fcea212",
   "metadata": {},
   "outputs": [],
   "source": [
    "#NOTE: SAMap expects the above to be in a dictionary keyed by the species IDs determined in the BLAST step:\n",
    "filenames = {'ch':fn1,'ms':fn2}\n",
    "filenamesForLater = {'ch':fn1,'ms':fn2}"
   ]
  },
  {
   "cell_type": "code",
   "execution_count": null,
   "id": "9eb75f7c-fd69-406c-937d-e3e55d27dee4",
   "metadata": {},
   "outputs": [],
   "source": [
    "#Load raw data mappings\n",
    "sm = SAMAP(\n",
    "        filenames,\n",
    "        f_maps = 'chicken_and_mouse/chms/maps/',\n",
    "        save_processed=True #if False, do not save the processed results to `*_pr.h5ad`\n",
    "    )"
   ]
  },
  {
   "cell_type": "code",
   "execution_count": null,
   "id": "9bce2606-5cb1-4f41-842a-992c6372923b",
   "metadata": {},
   "outputs": [],
   "source": [
    "sm.run(pairwise=True)"
   ]
  },
  {
   "cell_type": "code",
   "execution_count": null,
   "id": "a4db91d1-8bfb-451e-aab0-05e9839f4f4f",
   "metadata": {},
   "outputs": [],
   "source": [
    "samap = sm.samap\n",
    "#combine species, after this analysis is done, time for visualization\n",
    "#The expression data in samap.adata is a block-diagonal matrix of each species' gene expressions."
   ]
  },
  {
   "cell_type": "code",
   "execution_count": null,
   "id": "73e8e143-6847-4a46-91f1-4efd15c83a19",
   "metadata": {
    "scrolled": true
   },
   "outputs": [],
   "source": [
    "sm.scatter()"
   ]
  },
  {
   "cell_type": "code",
   "execution_count": null,
   "id": "fe092c0a-6691-4932-ba1c-002acdb03e59",
   "metadata": {},
   "outputs": [],
   "source": [
    "#interactive plot\n",
    "sm.samap.gui()\n",
    "#requires modules colorlover, plotly, ipyevent"
   ]
  },
  {
   "cell_type": "code",
   "execution_count": null,
   "id": "7fb42124-ffb1-4d9f-acfd-c71227712dd4",
   "metadata": {},
   "outputs": [],
   "source": [
    "#INVESTIGATION: Customize and label the clustering plot\n",
    "#each species individually\n",
    "sm.gui()"
   ]
  },
  {
   "cell_type": "code",
   "execution_count": null,
   "id": "a0e7ff6d-8e37-47fe-940e-0c172d1a0994",
   "metadata": {},
   "outputs": [],
   "source": [
    "#NOTES and Investigation For Analyzing/Exporting Samap Data:\n",
    "#The species ID for each cell is stored in samap.adata.obs['species']\n",
    "#The combined graph is stored in samap.adata.obsp['connectivities']\n",
    "#The refined homology graph is stored in samap.adata.varp['homology_graph_reweighted'] (or sm.gnnm_refined) and the gene names corresponding to this graph are stored in samap.adata.var_names (or sm.gns)\n",
    "#Print adata structure\n",
    "print(dir(samap.adata))"
   ]
  },
  {
   "cell_type": "code",
   "execution_count": null,
   "id": "60666843-2034-4088-8237-aab6556739cb",
   "metadata": {},
   "outputs": [],
   "source": [
    "#save adata object as a pickle\n",
    "import pickle\n",
    "with open('samap_adata.pkl', 'wb') as file:\n",
    "    pickle.dump(samap.adata, file)\n",
    "with open('samap_raw_adata.pkl', 'wb') as file:\n",
    "    pickle.dump(samap.adata_raw, file)"
   ]
  },
  {
   "cell_type": "code",
   "execution_count": null,
   "id": "b4ff3b1c-b1f9-45fa-8cf9-9ccebf768002",
   "metadata": {},
   "outputs": [],
   "source": [
    "#Pickle the entire samap object\n",
    "import samap.utils\n",
    "samap.utils.save_samap(sm, 'samap_object')"
   ]
  },
  {
   "cell_type": "code",
   "execution_count": null,
   "id": "177d3abf-4449-4643-8e76-92dfad85d4bd",
   "metadata": {},
   "outputs": [],
   "source": [
    "#print entire object structure\n",
    "print(dir(sm.samap))"
   ]
  },
  {
   "cell_type": "code",
   "execution_count": null,
   "id": "5b4f749d-c4e4-4f78-bbab-a1762182f3c3",
   "metadata": {},
   "outputs": [],
   "source": [
    "#print each species new file structure\n",
    "print(filenames) "
   ]
  },
  {
   "cell_type": "code",
   "execution_count": null,
   "id": "fae30577-64fa-467c-b01d-e2f4332b32df",
   "metadata": {},
   "outputs": [],
   "source": [
    "#save as h5ad\n",
    "sm.samap.adata.write_h5ad(filename=\"Samap_h5ad.h5ad\", compression=None, compression_opts=None, as_dense=())"
   ]
  },
  {
   "cell_type": "code",
   "execution_count": null,
   "id": "e8c64ebf-e9ba-450b-b36f-1b00c9f47ca3",
   "metadata": {},
   "outputs": [],
   "source": [
    "#save as loom, requires module loompy\n",
    "import anndata as ad\n",
    "sm.samap.adata.write_loom(\"samap_adata.loom\", write_obsm_varm=True)"
   ]
  }
 ],
 "metadata": {
  "kernelspec": {
   "display_name": "Python 3 (ipykernel)",
   "language": "python",
   "name": "python3"
  },
  "language_info": {
   "codemirror_mode": {
    "name": "ipython",
    "version": 3
   },
   "file_extension": ".py",
   "mimetype": "text/x-python",
   "name": "python",
   "nbconvert_exporter": "python",
   "pygments_lexer": "ipython3",
   "version": "3.10.0"
  }
 },
 "nbformat": 4,
 "nbformat_minor": 5
}
