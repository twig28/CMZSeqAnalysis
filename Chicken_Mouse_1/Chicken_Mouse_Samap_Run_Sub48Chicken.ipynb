{
 "cells": [
  {
   "cell_type": "code",
   "execution_count": 1,
   "id": "0821e5bc-fac4-4691-9db3-d389a20b5da5",
   "metadata": {},
   "outputs": [
    {
     "name": "stderr",
     "output_type": "stream",
     "text": [
      "C:\\Users\\jacwe\\AppData\\Local\\Programs\\Python\\Python310\\lib\\site-packages\\anndata\\utils.py:429: FutureWarning: Importing read_csv from `anndata` is deprecated. Import anndata.io.read_csv instead.\n",
      "  warnings.warn(msg, FutureWarning)\n",
      "C:\\Users\\jacwe\\AppData\\Local\\Programs\\Python\\Python310\\lib\\site-packages\\anndata\\utils.py:429: FutureWarning: Importing read_text from `anndata` is deprecated. Import anndata.io.read_text instead.\n",
      "  warnings.warn(msg, FutureWarning)\n",
      "C:\\Users\\jacwe\\AppData\\Local\\Programs\\Python\\Python310\\lib\\site-packages\\anndata\\utils.py:429: FutureWarning: Importing read_excel from `anndata` is deprecated. Import anndata.io.read_excel instead.\n",
      "  warnings.warn(msg, FutureWarning)\n",
      "C:\\Users\\jacwe\\AppData\\Local\\Programs\\Python\\Python310\\lib\\site-packages\\anndata\\utils.py:429: FutureWarning: Importing read_mtx from `anndata` is deprecated. Import anndata.io.read_mtx instead.\n",
      "  warnings.warn(msg, FutureWarning)\n",
      "C:\\Users\\jacwe\\AppData\\Local\\Programs\\Python\\Python310\\lib\\site-packages\\anndata\\utils.py:429: FutureWarning: Importing read_loom from `anndata` is deprecated. Import anndata.io.read_loom instead.\n",
      "  warnings.warn(msg, FutureWarning)\n",
      "C:\\Users\\jacwe\\AppData\\Local\\Programs\\Python\\Python310\\lib\\site-packages\\anndata\\utils.py:429: FutureWarning: Importing read_hdf from `anndata` is deprecated. Import anndata.io.read_hdf instead.\n",
      "  warnings.warn(msg, FutureWarning)\n",
      "C:\\Users\\jacwe\\AppData\\Local\\Programs\\Python\\Python310\\lib\\site-packages\\anndata\\utils.py:429: FutureWarning: Importing read_umi_tools from `anndata` is deprecated. Import anndata.io.read_umi_tools instead.\n",
      "  warnings.warn(msg, FutureWarning)\n"
     ]
    }
   ],
   "source": [
    "from samap.mapping import SAMAP\n",
    "from samap.analysis import (get_mapping_scores, GenePairFinder,\n",
    "                            sankey_plot, chord_plot, CellTypeTriangles, \n",
    "                            ParalogSubstitutions, FunctionalEnrichment,\n",
    "                            convert_eggnog_to_homologs, GeneTriangles)\n",
    "from samalg import SAM\n",
    "import pandas as pd\n",
    "import plotly.express as px\n",
    "#NOTE:\n",
    "#the package samalg is not called samalg but is instead called sam-algorithm\n",
    "#Python 3.10.11 Works Best"
   ]
  },
  {
   "cell_type": "markdown",
   "id": "a50bf7de-c130-4138-b4f3-d1a501984073",
   "metadata": {},
   "source": [
    "# Read Mappings And Run SAMap"
   ]
  },
  {
   "cell_type": "code",
   "execution_count": 2,
   "id": "533c452c-c079-46e7-bd9c-3c6692a3e61f",
   "metadata": {},
   "outputs": [
    {
     "data": {
      "text/html": [
       "<div>\n",
       "<style scoped>\n",
       "    .dataframe tbody tr th:only-of-type {\n",
       "        vertical-align: middle;\n",
       "    }\n",
       "\n",
       "    .dataframe tbody tr th {\n",
       "        vertical-align: top;\n",
       "    }\n",
       "\n",
       "    .dataframe thead th {\n",
       "        text-align: right;\n",
       "    }\n",
       "</style>\n",
       "<table border=\"1\" class=\"dataframe\">\n",
       "  <thead>\n",
       "    <tr style=\"text-align: right;\">\n",
       "      <th></th>\n",
       "      <th>1</th>\n",
       "      <th>2</th>\n",
       "      <th>3</th>\n",
       "      <th>4</th>\n",
       "      <th>5</th>\n",
       "      <th>6</th>\n",
       "      <th>7</th>\n",
       "      <th>8</th>\n",
       "      <th>9</th>\n",
       "      <th>10</th>\n",
       "      <th>11</th>\n",
       "    </tr>\n",
       "    <tr>\n",
       "      <th>0</th>\n",
       "      <th></th>\n",
       "      <th></th>\n",
       "      <th></th>\n",
       "      <th></th>\n",
       "      <th></th>\n",
       "      <th></th>\n",
       "      <th></th>\n",
       "      <th></th>\n",
       "      <th></th>\n",
       "      <th></th>\n",
       "      <th></th>\n",
       "    </tr>\n",
       "  </thead>\n",
       "  <tbody>\n",
       "    <tr>\n",
       "      <th>ND1</th>\n",
       "      <td>mt-Nd1</td>\n",
       "      <td>55.414</td>\n",
       "      <td>314</td>\n",
       "      <td>140</td>\n",
       "      <td>0</td>\n",
       "      <td>968</td>\n",
       "      <td>27</td>\n",
       "      <td>947</td>\n",
       "      <td>6</td>\n",
       "      <td>7.990000e-101</td>\n",
       "      <td>364.0</td>\n",
       "    </tr>\n",
       "    <tr>\n",
       "      <th>ND2</th>\n",
       "      <td>mt-Nd2</td>\n",
       "      <td>46.281</td>\n",
       "      <td>121</td>\n",
       "      <td>65</td>\n",
       "      <td>0</td>\n",
       "      <td>1</td>\n",
       "      <td>363</td>\n",
       "      <td>1</td>\n",
       "      <td>363</td>\n",
       "      <td>5.000000e-35</td>\n",
       "      <td>113.0</td>\n",
       "    </tr>\n",
       "    <tr>\n",
       "      <th>COX1</th>\n",
       "      <td>mt-Co1</td>\n",
       "      <td>69.355</td>\n",
       "      <td>434</td>\n",
       "      <td>133</td>\n",
       "      <td>0</td>\n",
       "      <td>1541</td>\n",
       "      <td>240</td>\n",
       "      <td>1538</td>\n",
       "      <td>237</td>\n",
       "      <td>0.000000e+00</td>\n",
       "      <td>664.0</td>\n",
       "    </tr>\n",
       "    <tr>\n",
       "      <th>COX2</th>\n",
       "      <td>mt-Co2</td>\n",
       "      <td>70.000</td>\n",
       "      <td>140</td>\n",
       "      <td>42</td>\n",
       "      <td>0</td>\n",
       "      <td>250</td>\n",
       "      <td>669</td>\n",
       "      <td>253</td>\n",
       "      <td>672</td>\n",
       "      <td>1.180000e-77</td>\n",
       "      <td>245.0</td>\n",
       "    </tr>\n",
       "    <tr>\n",
       "      <th>ATP6</th>\n",
       "      <td>mt-Atp6</td>\n",
       "      <td>63.889</td>\n",
       "      <td>108</td>\n",
       "      <td>39</td>\n",
       "      <td>0</td>\n",
       "      <td>355</td>\n",
       "      <td>678</td>\n",
       "      <td>352</td>\n",
       "      <td>675</td>\n",
       "      <td>9.430000e-27</td>\n",
       "      <td>104.0</td>\n",
       "    </tr>\n",
       "  </tbody>\n",
       "</table>\n",
       "</div>"
      ],
      "text/plain": [
       "           1       2    3    4   5     6    7     8    9              10  \\\n",
       "0                                                                          \n",
       "ND1    mt-Nd1  55.414  314  140   0   968   27   947    6  7.990000e-101   \n",
       "ND2    mt-Nd2  46.281  121   65   0     1  363     1  363   5.000000e-35   \n",
       "COX1   mt-Co1  69.355  434  133   0  1541  240  1538  237   0.000000e+00   \n",
       "COX2   mt-Co2  70.000  140   42   0   250  669   253  672   1.180000e-77   \n",
       "ATP6  mt-Atp6  63.889  108   39   0   355  678   352  675   9.430000e-27   \n",
       "\n",
       "         11  \n",
       "0            \n",
       "ND1   364.0  \n",
       "ND2   113.0  \n",
       "COX1  664.0  \n",
       "COX2  245.0  \n",
       "ATP6  104.0  "
      ]
     },
     "execution_count": 2,
     "metadata": {},
     "output_type": "execute_result"
    }
   ],
   "source": [
    "A=pd.read_csv('chicken_and_mouse\\chms\\maps\\chms\\ch_to_ms.txt',sep='\\t',index_col=0,header=None)\n",
    "B=pd.read_csv('chicken_and_mouse\\chms\\maps\\chms\\ms_to_ch.txt',sep='\\t',index_col=0,header=None)\n",
    "A.head()"
   ]
  },
  {
   "cell_type": "code",
   "execution_count": 3,
   "id": "f0d5e116-248a-4949-81a6-d7b9fc115840",
   "metadata": {},
   "outputs": [
    {
     "data": {
      "text/html": [
       "<div>\n",
       "<style scoped>\n",
       "    .dataframe tbody tr th:only-of-type {\n",
       "        vertical-align: middle;\n",
       "    }\n",
       "\n",
       "    .dataframe tbody tr th {\n",
       "        vertical-align: top;\n",
       "    }\n",
       "\n",
       "    .dataframe thead th {\n",
       "        text-align: right;\n",
       "    }\n",
       "</style>\n",
       "<table border=\"1\" class=\"dataframe\">\n",
       "  <thead>\n",
       "    <tr style=\"text-align: right;\">\n",
       "      <th></th>\n",
       "      <th>1</th>\n",
       "      <th>2</th>\n",
       "      <th>3</th>\n",
       "      <th>4</th>\n",
       "      <th>5</th>\n",
       "      <th>6</th>\n",
       "      <th>7</th>\n",
       "      <th>8</th>\n",
       "      <th>9</th>\n",
       "      <th>10</th>\n",
       "      <th>11</th>\n",
       "    </tr>\n",
       "    <tr>\n",
       "      <th>0</th>\n",
       "      <th></th>\n",
       "      <th></th>\n",
       "      <th></th>\n",
       "      <th></th>\n",
       "      <th></th>\n",
       "      <th></th>\n",
       "      <th></th>\n",
       "      <th></th>\n",
       "      <th></th>\n",
       "      <th></th>\n",
       "      <th></th>\n",
       "    </tr>\n",
       "  </thead>\n",
       "  <tbody>\n",
       "    <tr>\n",
       "      <th>Trav13-2</th>\n",
       "      <td>ENSGALG00010028649</td>\n",
       "      <td>44.000</td>\n",
       "      <td>25</td>\n",
       "      <td>14</td>\n",
       "      <td>0</td>\n",
       "      <td>67</td>\n",
       "      <td>141</td>\n",
       "      <td>385</td>\n",
       "      <td>459</td>\n",
       "      <td>9.950000e-07</td>\n",
       "      <td>29.4</td>\n",
       "    </tr>\n",
       "    <tr>\n",
       "      <th>Trdv5</th>\n",
       "      <td>ENSGALG00010025670</td>\n",
       "      <td>31.746</td>\n",
       "      <td>63</td>\n",
       "      <td>43</td>\n",
       "      <td>0</td>\n",
       "      <td>10</td>\n",
       "      <td>198</td>\n",
       "      <td>7</td>\n",
       "      <td>195</td>\n",
       "      <td>1.730000e-07</td>\n",
       "      <td>42.8</td>\n",
       "    </tr>\n",
       "    <tr>\n",
       "      <th>Trdv5</th>\n",
       "      <td>ENSGALG00010025476</td>\n",
       "      <td>34.694</td>\n",
       "      <td>49</td>\n",
       "      <td>32</td>\n",
       "      <td>0</td>\n",
       "      <td>52</td>\n",
       "      <td>198</td>\n",
       "      <td>52</td>\n",
       "      <td>198</td>\n",
       "      <td>3.230000e-07</td>\n",
       "      <td>41.8</td>\n",
       "    </tr>\n",
       "    <tr>\n",
       "      <th>Trgv7</th>\n",
       "      <td>ENSGALG00010017740</td>\n",
       "      <td>50.000</td>\n",
       "      <td>26</td>\n",
       "      <td>13</td>\n",
       "      <td>0</td>\n",
       "      <td>145</td>\n",
       "      <td>222</td>\n",
       "      <td>166</td>\n",
       "      <td>243</td>\n",
       "      <td>1.920000e-07</td>\n",
       "      <td>36.8</td>\n",
       "    </tr>\n",
       "    <tr>\n",
       "      <th>Trgv4</th>\n",
       "      <td>ENSGALG00010017740</td>\n",
       "      <td>34.722</td>\n",
       "      <td>72</td>\n",
       "      <td>47</td>\n",
       "      <td>0</td>\n",
       "      <td>196</td>\n",
       "      <td>411</td>\n",
       "      <td>145</td>\n",
       "      <td>360</td>\n",
       "      <td>2.350000e-09</td>\n",
       "      <td>59.3</td>\n",
       "    </tr>\n",
       "  </tbody>\n",
       "</table>\n",
       "</div>"
      ],
      "text/plain": [
       "                          1       2   3   4   5    6    7    8    9   \\\n",
       "0                                                                      \n",
       "Trav13-2  ENSGALG00010028649  44.000  25  14   0   67  141  385  459   \n",
       "Trdv5     ENSGALG00010025670  31.746  63  43   0   10  198    7  195   \n",
       "Trdv5     ENSGALG00010025476  34.694  49  32   0   52  198   52  198   \n",
       "Trgv7     ENSGALG00010017740  50.000  26  13   0  145  222  166  243   \n",
       "Trgv4     ENSGALG00010017740  34.722  72  47   0  196  411  145  360   \n",
       "\n",
       "                    10    11  \n",
       "0                             \n",
       "Trav13-2  9.950000e-07  29.4  \n",
       "Trdv5     1.730000e-07  42.8  \n",
       "Trdv5     3.230000e-07  41.8  \n",
       "Trgv7     1.920000e-07  36.8  \n",
       "Trgv4     2.350000e-09  59.3  "
      ]
     },
     "execution_count": 3,
     "metadata": {},
     "output_type": "execute_result"
    }
   ],
   "source": [
    "B.head()"
   ]
  },
  {
   "cell_type": "code",
   "execution_count": 4,
   "id": "8df01ff2-08da-4a8e-9c03-6db7add4f3be",
   "metadata": {},
   "outputs": [],
   "source": [
    "#NOTE When loading in raw data, SAMap will automatically process them with SAM and save the results to an *_pr.h5ad file. For example, if the raw data is file.h5ad the processed data will be saved to file_pr.h5ad\n",
    "fn1 = 'samap_adata_chicken_sub48.h5ad' #chicken\n",
    "fn2 = 'samap_adata_sparse_mouse.h5ad' #mouse"
   ]
  },
  {
   "cell_type": "code",
   "execution_count": 5,
   "id": "8df739ae-5c7f-42e6-8d9f-4c415fcea212",
   "metadata": {},
   "outputs": [],
   "source": [
    "#NOTE: SAMap expects the above to be in a dictionary keyed by the species IDs determined in the BLAST step:\n",
    "filenames = {'ch':fn1,'ms':fn2}"
   ]
  },
  {
   "cell_type": "code",
   "execution_count": 6,
   "id": "9eb75f7c-fd69-406c-937d-e3e55d27dee4",
   "metadata": {},
   "outputs": [
    {
     "name": "stdout",
     "output_type": "stream",
     "text": [
      "Processing data ch from:\n",
      "samap_adata_chicken_sub48.h5ad\n",
      "RUNNING SAM\n",
      "Iteration: 0, Convergence: 1.0\n"
     ]
    },
    {
     "name": "stderr",
     "output_type": "stream",
     "text": [
      "C:\\Users\\jacwe\\AppData\\Local\\Programs\\Python\\Python310\\lib\\site-packages\\anndata\\_core\\storage.py:48: FutureWarning: AnnData previously had undefined behavior around matrices of type <class 'scipy.sparse._lil.lil_matrix'>.In 0.12, passing in this type will throw an error. Please convert to a supported type.Continue using for this minor version at your own risk.\n",
      "  warnings.warn(msg, FutureWarning)\n"
     ]
    },
    {
     "name": "stdout",
     "output_type": "stream",
     "text": [
      "Iteration: 1, Convergence: 0.7381763211849431\n"
     ]
    },
    {
     "name": "stderr",
     "output_type": "stream",
     "text": [
      "C:\\Users\\jacwe\\AppData\\Local\\Programs\\Python\\Python310\\lib\\site-packages\\anndata\\_core\\storage.py:48: FutureWarning: AnnData previously had undefined behavior around matrices of type <class 'scipy.sparse._lil.lil_matrix'>.In 0.12, passing in this type will throw an error. Please convert to a supported type.Continue using for this minor version at your own risk.\n",
      "  warnings.warn(msg, FutureWarning)\n"
     ]
    },
    {
     "name": "stdout",
     "output_type": "stream",
     "text": [
      "Iteration: 2, Convergence: 0.08247286914016053\n"
     ]
    },
    {
     "name": "stderr",
     "output_type": "stream",
     "text": [
      "C:\\Users\\jacwe\\AppData\\Local\\Programs\\Python\\Python310\\lib\\site-packages\\anndata\\_core\\storage.py:48: FutureWarning: AnnData previously had undefined behavior around matrices of type <class 'scipy.sparse._lil.lil_matrix'>.In 0.12, passing in this type will throw an error. Please convert to a supported type.Continue using for this minor version at your own risk.\n",
      "  warnings.warn(msg, FutureWarning)\n"
     ]
    },
    {
     "name": "stdout",
     "output_type": "stream",
     "text": [
      "Iteration: 3, Convergence: 0.01638294912152071\n"
     ]
    },
    {
     "name": "stderr",
     "output_type": "stream",
     "text": [
      "C:\\Users\\jacwe\\AppData\\Local\\Programs\\Python\\Python310\\lib\\site-packages\\anndata\\_core\\storage.py:48: FutureWarning: AnnData previously had undefined behavior around matrices of type <class 'scipy.sparse._lil.lil_matrix'>.In 0.12, passing in this type will throw an error. Please convert to a supported type.Continue using for this minor version at your own risk.\n",
      "  warnings.warn(msg, FutureWarning)\n"
     ]
    },
    {
     "name": "stdout",
     "output_type": "stream",
     "text": [
      "Computing the UMAP embedding...\n"
     ]
    },
    {
     "name": "stderr",
     "output_type": "stream",
     "text": [
      "C:\\Users\\jacwe\\AppData\\Local\\Programs\\Python\\Python310\\lib\\site-packages\\sklearn\\utils\\deprecation.py:151: FutureWarning: 'force_all_finite' was renamed to 'ensure_all_finite' in 1.6 and will be removed in 1.8.\n",
      "  warnings.warn(\n",
      "C:\\Users\\jacwe\\AppData\\Local\\Programs\\Python\\Python310\\lib\\site-packages\\umap\\umap_.py:1952: UserWarning: n_jobs value 1 overridden to 1 by setting random_state. Use no seed for parallelism.\n",
      "  warn(\n"
     ]
    },
    {
     "name": "stdout",
     "output_type": "stream",
     "text": [
      "Elapsed time: 127.30547499656677 seconds\n",
      "Not updating the manifold...\n",
      "Processing data ms from:\n",
      "samap_adata_sparse_mouse.h5ad\n",
      "RUNNING SAM\n",
      "Iteration: 0, Convergence: 1.0\n"
     ]
    },
    {
     "name": "stderr",
     "output_type": "stream",
     "text": [
      "C:\\Users\\jacwe\\AppData\\Local\\Programs\\Python\\Python310\\lib\\site-packages\\anndata\\_core\\storage.py:48: FutureWarning: AnnData previously had undefined behavior around matrices of type <class 'scipy.sparse._lil.lil_matrix'>.In 0.12, passing in this type will throw an error. Please convert to a supported type.Continue using for this minor version at your own risk.\n",
      "  warnings.warn(msg, FutureWarning)\n"
     ]
    },
    {
     "name": "stdout",
     "output_type": "stream",
     "text": [
      "Iteration: 1, Convergence: 0.7178241163680018\n"
     ]
    },
    {
     "name": "stderr",
     "output_type": "stream",
     "text": [
      "C:\\Users\\jacwe\\AppData\\Local\\Programs\\Python\\Python310\\lib\\site-packages\\anndata\\_core\\storage.py:48: FutureWarning: AnnData previously had undefined behavior around matrices of type <class 'scipy.sparse._lil.lil_matrix'>.In 0.12, passing in this type will throw an error. Please convert to a supported type.Continue using for this minor version at your own risk.\n",
      "  warnings.warn(msg, FutureWarning)\n"
     ]
    },
    {
     "name": "stdout",
     "output_type": "stream",
     "text": [
      "Iteration: 2, Convergence: 0.046463473334401956\n"
     ]
    },
    {
     "name": "stderr",
     "output_type": "stream",
     "text": [
      "C:\\Users\\jacwe\\AppData\\Local\\Programs\\Python\\Python310\\lib\\site-packages\\anndata\\_core\\storage.py:48: FutureWarning: AnnData previously had undefined behavior around matrices of type <class 'scipy.sparse._lil.lil_matrix'>.In 0.12, passing in this type will throw an error. Please convert to a supported type.Continue using for this minor version at your own risk.\n",
      "  warnings.warn(msg, FutureWarning)\n"
     ]
    },
    {
     "name": "stdout",
     "output_type": "stream",
     "text": [
      "Computing the UMAP embedding...\n"
     ]
    },
    {
     "name": "stderr",
     "output_type": "stream",
     "text": [
      "C:\\Users\\jacwe\\AppData\\Local\\Programs\\Python\\Python310\\lib\\site-packages\\sklearn\\utils\\deprecation.py:151: FutureWarning: 'force_all_finite' was renamed to 'ensure_all_finite' in 1.6 and will be removed in 1.8.\n",
      "  warnings.warn(\n",
      "C:\\Users\\jacwe\\AppData\\Local\\Programs\\Python\\Python310\\lib\\site-packages\\umap\\umap_.py:1952: UserWarning: n_jobs value 1 overridden to 1 by setting random_state. Use no seed for parallelism.\n",
      "  warn(\n"
     ]
    },
    {
     "name": "stdout",
     "output_type": "stream",
     "text": [
      "Elapsed time: 97.85917448997498 seconds\n",
      "Not updating the manifold...\n",
      "10850 `ch` gene symbols match between the datasets and the BLAST graph.\n",
      "13753 `ms` gene symbols match between the datasets and the BLAST graph.\n"
     ]
    }
   ],
   "source": [
    "#Load raw data mappings\n",
    "sm = SAMAP(\n",
    "        filenames,\n",
    "        f_maps = 'chicken_and_mouse/chms/maps/',\n",
    "        save_processed=False #if False, do not save the processed results to `*_pr.h5ad`\n",
    "    )"
   ]
  },
  {
   "cell_type": "code",
   "execution_count": 7,
   "id": "9bce2606-5cb1-4f41-842a-992c6372923b",
   "metadata": {},
   "outputs": [
    {
     "name": "stdout",
     "output_type": "stream",
     "text": [
      "Prepping datasets for translation.\n",
      "Translating feature spaces pairwise.\n",
      "Projecting data into joint latent space. 2.7570383548736572\n",
      "Correcting data with means. 4.1029558181762695\n",
      "Expanding neighbourhoods of species ch...\n",
      "Expanding neighbourhoods of species ms...\n",
      "Indegree coarsening\n",
      "0/1 (0, 10561)\n",
      "Rescaling edge weights by expression correlations.\n",
      "Concatenating SAM objects...\n",
      "Iteration 1 complete.\n",
      "Alignment scores:\n",
      "          ch       ms\n",
      "ch  0.000000  0.61685\n",
      "ms  0.609393  0.00000\n",
      "Calculating gene-gene correlations in the homology graph...\n",
      "Prepping datasets for translation.\n",
      "Translating feature spaces pairwise.\n",
      "Projecting data into joint latent space. 2.509075403213501\n",
      "Correcting data with means. 3.6955556869506836\n",
      "Expanding neighbourhoods of species ch...\n",
      "Expanding neighbourhoods of species ms...\n",
      "Indegree coarsening\n",
      "0/1 (0, 10561)\n",
      "Rescaling edge weights by expression correlations.\n",
      "Concatenating SAM objects...\n",
      "Iteration 2 complete.\n",
      "Alignment scores:\n",
      "          ch        ms\n",
      "ch  0.000000  0.671588\n",
      "ms  0.678244  0.000000\n",
      "Calculating gene-gene correlations in the homology graph...\n",
      "Prepping datasets for translation.\n",
      "Translating feature spaces pairwise.\n",
      "Projecting data into joint latent space. 2.522885799407959\n",
      "Correcting data with means. 3.646552324295044\n",
      "Expanding neighbourhoods of species ch...\n",
      "Expanding neighbourhoods of species ms...\n",
      "Indegree coarsening\n",
      "0/1 (0, 10561)\n",
      "Rescaling edge weights by expression correlations.\n",
      "Concatenating SAM objects...\n",
      "Iteration 3 complete.\n",
      "Alignment scores:\n",
      "         ch        ms\n",
      "ch  0.00000  0.677337\n",
      "ms  0.68918  0.000000\n",
      "Running UMAP on the stitched manifolds.\n",
      "Elapsed time: 1.7418553988138834 minutes.\n"
     ]
    },
    {
     "data": {
      "text/plain": [
       "<samalg.SAM at 0x2772d8cbaf0>"
      ]
     },
     "execution_count": 7,
     "metadata": {},
     "output_type": "execute_result"
    }
   ],
   "source": [
    "sm.run(pairwise=True)"
   ]
  },
  {
   "cell_type": "code",
   "execution_count": 8,
   "id": "a4db91d1-8bfb-451e-aab0-05e9839f4f4f",
   "metadata": {},
   "outputs": [],
   "source": [
    "samap = sm.samap\n",
    "#combine species, after this analysis is done, time for visualization\n",
    "#The expression data in samap.adata is a block-diagonal matrix of each species' gene expressions."
   ]
  },
  {
   "cell_type": "markdown",
   "id": "8e05c2fd-4956-4f57-8d74-6e4ebbf7d4cb",
   "metadata": {},
   "source": [
    "# Visualizations"
   ]
  },
  {
   "cell_type": "code",
   "execution_count": 9,
   "id": "73e8e143-6847-4a46-91f1-4efd15c83a19",
   "metadata": {
    "scrolled": true
   },
   "outputs": [
    {
     "data": {
      "text/plain": [
       "<Axes: >"
      ]
     },
     "execution_count": 9,
     "metadata": {},
     "output_type": "execute_result"
    },
    {
     "data": {
      "image/png": "[encoded data removed]",
      "text/plain": [
       "<Figure size 640x480 with 1 Axes>"
      ]
     },
     "metadata": {},
     "output_type": "display_data"
    }
   ],
   "source": [
    "sm.scatter()"
   ]
  },
  {
   "cell_type": "code",
   "execution_count": 10,
   "id": "fe092c0a-6691-4932-ba1c-002acdb03e59",
   "metadata": {},
   "outputs": [
    {
     "data": {
      "application/vnd.jupyter.widget-view+json": {
       "model_id": "638529b9988b43a58554e408d21faa31",
       "version_major": 2,
       "version_minor": 0
      },
      "text/plain": [
       "HBox(children=(Tab(children=(FigureWidget({\n",
       "    'data': [{'hoverinfo': 'text',\n",
       "              'marker': {'size'…"
      ]
     },
     "execution_count": 10,
     "metadata": {},
     "output_type": "execute_result"
    }
   ],
   "source": [
    "#interactive plot\n",
    "sm.samap.gui()\n",
    "#requires modules colorlover, plotly, ipyevent"
   ]
  },
  {
   "cell_type": "code",
   "execution_count": 11,
   "id": "7fb42124-ffb1-4d9f-acfd-c71227712dd4",
   "metadata": {},
   "outputs": [
    {
     "data": {
      "application/vnd.jupyter.widget-view+json": {
       "model_id": "2ceb6e854b3a4d6bb5f0339abf6d1fef",
       "version_major": 2,
       "version_minor": 0
      },
      "text/plain": [
       "HBox(children=(Tab(children=(FigureWidget({\n",
       "    'data': [{'hoverinfo': 'text',\n",
       "              'marker': {'size'…"
      ]
     },
     "execution_count": 11,
     "metadata": {},
     "output_type": "execute_result"
    }
   ],
   "source": [
    "#each species individually\n",
    "sm.gui()"
   ]
  },
  {
   "cell_type": "markdown",
   "id": "8323ef02-af08-47c4-ab69-5fe7cebbd298",
   "metadata": {},
   "source": [
    "# Save Data for Seurat and SAMap Downstream Analysis"
   ]
  },
  {
   "cell_type": "code",
   "execution_count": 12,
   "id": "a0e7ff6d-8e37-47fe-940e-0c172d1a0994",
   "metadata": {},
   "outputs": [
    {
     "name": "stdout",
     "output_type": "stream",
     "text": [
      "['T', 'X', '_BACKED_ATTRS', '_H5_ALIASES', '_H5_ALIASES_NAMES', '_X', '__annotations__', '__class__', '__contains__', '__delattr__', '__delitem__', '__dict__', '__dir__', '__doc__', '__eq__', '__format__', '__ge__', '__getattribute__', '__getitem__', '__gt__', '__hash__', '__init__', '__init_subclass__', '__le__', '__len__', '__lt__', '__module__', '__ne__', '__new__', '__reduce__', '__reduce_ex__', '__repr__', '__setattr__', '__setitem__', '__sizeof__', '__str__', '__subclasshook__', '__weakref__', '_adata_ref', '_check_dimensions', '_check_uniqueness', '_clean_up_old_format', '_gen_repr', '_get_X', '_get_and_delete_multicol_field', '_get_obs_array', '_get_var_array', '_has_X', '_init_as_actual', '_init_as_view', '_inplace_subset_obs', '_inplace_subset_var', '_is_view', '_layers', '_mutated_copy', '_normalize_indices', '_obs', '_obsm', '_obsp', '_oidx', '_prep_dim_index', '_raw', '_remove_unused_categories', '_sanitize', '_set_backed', '_set_dim_df', '_set_dim_index', '_uns', '_var', '_varm', '_varp', '_vidx', 'chunk_X', 'chunked_X', 'concatenate', 'copy', 'file', 'filename', 'is_view', 'isbacked', 'isview', 'layers', 'n_obs', 'n_vars', 'obs', 'obs_keys', 'obs_names', 'obs_names_make_unique', 'obs_vector', 'obsm', 'obsm_keys', 'obsp', 'raw', 'rename_categories', 'shape', 'strings_to_categoricals', 'to_df', 'to_memory', 'transpose', 'uns', 'uns_keys', 'var', 'var_keys', 'var_names', 'var_names_make_unique', 'var_vector', 'varm', 'varm_keys', 'varp', 'write', 'write_csvs', 'write_h5ad', 'write_loom', 'write_zarr']\n"
     ]
    }
   ],
   "source": [
    "#NOTES and Investigation For Analyzing/Exporting Samap Data:\n",
    "#The species ID for each cell is stored in samap.adata.obs['species']\n",
    "#The combined graph is stored in samap.adata.obsp['connectivities']\n",
    "#The refined homology graph is stored in samap.adata.varp['homology_graph_reweighted'] (or sm.gnnm_refined) and the gene names corresponding to this graph are stored in samap.adata.var_names (or sm.gns)\n",
    "#Print adata structure\n",
    "print(dir(samap.adata))"
   ]
  },
  {
   "cell_type": "code",
   "execution_count": null,
   "id": "60666843-2034-4088-8237-aab6556739cb",
   "metadata": {},
   "outputs": [],
   "source": [
    "#save adata object as a pickle\n",
    "import pickle\n",
    "with open('samap_adata_sub48.pkl', 'wb') as file:\n",
    "    pickle.dump(samap.adata, file)\n",
    "#with open('samap_raw_adata_sub48.pkl', 'wb') as file:\n",
    "#    pickle.dump(samap.adata_raw, file)"
   ]
  },
  {
   "cell_type": "code",
   "execution_count": 14,
   "id": "b4ff3b1c-b1f9-45fa-8cf9-9ccebf768002",
   "metadata": {},
   "outputs": [],
   "source": [
    "#Pickle the entire samap object\n",
    "import samap.utils\n",
    "samap.utils.save_samap(sm, 'samap_object_sub48')"
   ]
  },
  {
   "cell_type": "code",
   "execution_count": 15,
   "id": "177d3abf-4449-4643-8e76-92dfad85d4bd",
   "metadata": {},
   "outputs": [
    {
     "name": "stdout",
     "output_type": "stream",
     "text": [
      "['__class__', '__delattr__', '__dict__', '__dir__', '__doc__', '__eq__', '__format__', '__ge__', '__getattribute__', '__gt__', '__hash__', '__init__', '__init_subclass__', '__le__', '__lt__', '__module__', '__ne__', '__new__', '__reduce__', '__reduce_ex__', '__repr__', '__setattr__', '__sizeof__', '__slotnames__', '__str__', '__subclasshook__', '__weakref__', 'adata', 'adata_raw', 'calculate_mean_var', 'calculate_nnm', 'clustering', 'density_clustering', 'dispersion_ranking_NN', 'get_avg_obsm', 'get_cells', 'get_labels', 'get_labels_un', 'gui', 'hdbknn_clustering', 'identify_marker_genes_ratio', 'identify_marker_genes_rf', 'identify_marker_genes_sw', 'kmeans_clustering', 'leiden_clustering', 'load', 'load_data', 'load_obs_annotations', 'load_var_annotations', 'louvain_clustering', 'preprocess_args', 'preprocess_data', 'run', 'run_args', 'run_diff_map', 'run_diff_umap', 'run_tsne', 'run_umap', 'save', 'save_anndata', 'scatter', 'show_gene_expression']\n"
     ]
    }
   ],
   "source": [
    "#print entire object structure\n",
    "print(dir(sm.samap))"
   ]
  },
  {
   "cell_type": "code",
   "execution_count": 16,
   "id": "5b4f749d-c4e4-4f78-bbab-a1762182f3c3",
   "metadata": {},
   "outputs": [
    {
     "name": "stdout",
     "output_type": "stream",
     "text": [
      "{'ch': <samalg.SAM object at 0x00000276AF2480A0>, 'ms': <samalg.SAM object at 0x00000276AB09B190>}\n"
     ]
    }
   ],
   "source": [
    "#print each species new file structure\n",
    "print(filenames) "
   ]
  },
  {
   "cell_type": "code",
   "execution_count": 17,
   "id": "fae30577-64fa-467c-b01d-e2f4332b32df",
   "metadata": {},
   "outputs": [],
   "source": [
    "#save as h5ad for seurat\n",
    "sm.samap.adata.write_h5ad(filename=\"samap_results_h5ad_sub48.h5ad\", compression=None, compression_opts=None, as_dense=())"
   ]
  }
 ],
 "metadata": {
  "kernelspec": {
   "display_name": "Python 3 (ipykernel)",
   "language": "python",
   "name": "python3"
  },
  "language_info": {
   "codemirror_mode": {
    "name": "ipython",
    "version": 3
   },
   "file_extension": ".py",
   "mimetype": "text/x-python",
   "name": "python",
   "nbconvert_exporter": "python",
   "pygments_lexer": "ipython3",
   "version": "3.10.11"
  }
 },
 "nbformat": 4,
 "nbformat_minor": 5
}
